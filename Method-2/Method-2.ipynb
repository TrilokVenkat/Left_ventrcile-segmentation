{
  "nbformat": 4,
  "nbformat_minor": 0,
  "metadata": {
    "colab": {
      "name": "Untitled0.ipynb",
      "provenance": [],
      "collapsed_sections": []
    },
    "kernelspec": {
      "name": "python3",
      "display_name": "Python 3"
    },
    "accelerator": "GPU"
  },
  "cells": [
    {
      "cell_type": "code",
      "metadata": {
        "id": "cB6tZpzrQThf",
        "colab_type": "code",
        "outputId": "d2adf877-b0de-469d-fedf-5386eb96aa76",
        "colab": {
          "base_uri": "https://localhost:8080/",
          "height": 32
        }
      },
      "source": [
        "%cd /content/drive/My\\ Drive/FCN/cardiac-segmentation-master"
      ],
      "execution_count": 0,
      "outputs": [
        {
          "output_type": "stream",
          "text": [
            "/content/drive/My Drive/FCN/cardiac-segmentation-master\n"
          ],
          "name": "stdout"
        }
      ]
    },
    {
      "cell_type": "code",
      "metadata": {
        "id": "LQgGAuLRQuWM",
        "colab_type": "code",
        "colab": {}
      },
      "source": [
        "!rm -rf '/content/drive/My Drive/FCN/cardiac-segmentation-master/Sunnybrook_online_submission'"
      ],
      "execution_count": 0,
      "outputs": []
    },
    {
      "cell_type": "code",
      "metadata": {
        "id": "l6H7AMLIQzEk",
        "colab_type": "code",
        "outputId": "cec25cd2-d553-4775-ede2-fb65c77604a4",
        "colab": {
          "base_uri": "https://localhost:8080/",
          "height": 52
        }
      },
      "source": [
        "!pip install pydicom\n"
      ],
      "execution_count": 0,
      "outputs": [
        {
          "output_type": "stream",
          "text": [
            "Requirement already satisfied: pydicom in /usr/local/lib/python3.6/dist-packages (2.0.0)\n"
          ],
          "name": "stdout"
        }
      ]
    },
    {
      "cell_type": "code",
      "metadata": {
        "id": "Fu0mo0jsAq3G",
        "colab_type": "code",
        "colab": {}
      },
      "source": [
        "%tensorflow_version 1.x"
      ],
      "execution_count": 0,
      "outputs": []
    },
    {
      "cell_type": "code",
      "metadata": {
        "id": "EexsuAynAwbo",
        "colab_type": "code",
        "outputId": "69f3fbc5-7872-49bd-bd0b-ce5c1d9de5a1",
        "colab": {
          "base_uri": "https://localhost:8080/",
          "height": 135
        }
      },
      "source": [
        "!pip install keras==2.0.2"
      ],
      "execution_count": 0,
      "outputs": [
        {
          "output_type": "stream",
          "text": [
            "Requirement already satisfied: keras==2.0.2 in /usr/local/lib/python3.6/dist-packages (2.0.2)\n",
            "Requirement already satisfied: pyyaml in /usr/local/lib/python3.6/dist-packages (from keras==2.0.2) (3.13)\n",
            "Requirement already satisfied: six in /usr/local/lib/python3.6/dist-packages (from keras==2.0.2) (1.12.0)\n",
            "Requirement already satisfied: theano in /usr/local/lib/python3.6/dist-packages (from keras==2.0.2) (1.0.4)\n",
            "Requirement already satisfied: numpy>=1.9.1 in /usr/local/lib/python3.6/dist-packages (from theano->keras==2.0.2) (1.18.4)\n",
            "Requirement already satisfied: scipy>=0.14 in /usr/local/lib/python3.6/dist-packages (from theano->keras==2.0.2) (1.4.1)\n"
          ],
          "name": "stdout"
        }
      ]
    },
    {
      "cell_type": "markdown",
      "metadata": {
        "id": "EjTo2Q_nMQyF",
        "colab_type": "text"
      },
      "source": [
        "Endocardium"
      ]
    },
    {
      "cell_type": "code",
      "metadata": {
        "id": "ZonTu0T7Q5vF",
        "colab_type": "code",
        "outputId": "6d419cbf-6fa2-4928-dc88-f9cef15430e1",
        "colab": {
          "base_uri": "https://localhost:8080/",
          "height": 1000
        }
      },
      "source": [
        "!python3 -W ignore submit_sunnybrook.py i"
      ],
      "execution_count": 0,
      "outputs": [
        {
          "output_type": "stream",
          "text": [
            "Using TensorFlow backend.\n",
            "\n",
            "Processing online i contours...\n",
            "Number of examples: 279\n",
            "online countours are: [<Contour for case SC-HF-NI-12, image 100>, <Contour for case SC-HF-NI-12, image 40>, <Contour for case SC-HF-NI-12, image 160>, <Contour for case SC-HF-NI-12, image 29>, <Contour for case SC-HF-NI-12, image 9>, <Contour for case SC-HF-NI-12, image 229>, <Contour for case SC-HF-NI-12, image 209>, <Contour for case SC-HF-NI-12, image 260>, <Contour for case SC-HF-NI-12, image 69>, <Contour for case SC-HF-NI-12, image 169>, <Contour for case SC-HF-NI-12, image 129>, <Contour for case SC-HF-NI-12, image 189>, <Contour for case SC-HF-NI-12, image 120>, <Contour for case SC-HF-NI-12, image 60>, <Contour for case SC-HF-NI-12, image 20>, <Contour for case SC-HF-NI-12, image 200>, <Contour for case SC-HF-NI-12, image 240>, <Contour for case SC-HF-NI-12, image 220>, <Contour for case SC-HF-NI-12, image 89>, <Contour for case SC-HF-NI-12, image 109>, <Contour for case SC-HF-NI-12, image 80>, <Contour for case SC-HF-NI-12, image 149>, <Contour for case SC-HF-NI-12, image 180>, <Contour for case SC-HF-NI-12, image 249>, <Contour for case SC-HF-NI-12, image 140>, <Contour for case SC-HF-NI-12, image 49>, <Contour for case SC-HF-NI-13, image 148>, <Contour for case SC-HF-NI-13, image 188>, <Contour for case SC-HF-NI-13, image 120>, <Contour for case SC-HF-NI-13, image 40>, <Contour for case SC-HF-NI-13, image 168>, <Contour for case SC-HF-NI-13, image 100>, <Contour for case SC-HF-NI-13, image 140>, <Contour for case SC-HF-NI-13, image 48>, <Contour for case SC-HF-NI-13, image 108>, <Contour for case SC-HF-NI-13, image 200>, <Contour for case SC-HF-NI-13, image 60>, <Contour for case SC-HF-NI-13, image 128>, <Contour for case SC-HF-NI-13, image 68>, <Contour for case SC-HF-NI-13, image 80>, <Contour for case SC-HF-NI-13, image 180>, <Contour for case SC-HF-NI-13, image 88>, <Contour for case SC-HF-NI-13, image 160>, <Contour for case SC-HF-NI-13, image 28>, <Contour for case SC-HF-NI-13, image 220>, <Contour for case SC-HF-NI-13, image 208>, <Contour for case SC-HF-I-10, image 40>, <Contour for case SC-HF-I-10, image 120>, <Contour for case SC-HF-I-10, image 168>, <Contour for case SC-HF-I-10, image 188>, <Contour for case SC-HF-I-10, image 220>, <Contour for case SC-HF-I-10, image 180>, <Contour for case SC-HF-I-10, image 140>, <Contour for case SC-HF-I-10, image 128>, <Contour for case SC-HF-I-10, image 68>, <Contour for case SC-HF-I-10, image 20>, <Contour for case SC-HF-I-10, image 200>, <Contour for case SC-HF-I-10, image 48>, <Contour for case SC-HF-I-10, image 160>, <Contour for case SC-HF-I-10, image 208>, <Contour for case SC-HF-I-10, image 100>, <Contour for case SC-HF-I-10, image 88>, <Contour for case SC-HF-I-10, image 108>, <Contour for case SC-HF-I-10, image 60>, <Contour for case SC-HF-I-10, image 80>, <Contour for case SC-HF-I-10, image 28>, <Contour for case SC-HF-I-10, image 148>, <Contour for case SC-HF-I-10, image 8>, <Contour for case SC-HF-NI-14, image 83>, <Contour for case SC-HF-NI-14, image 136>, <Contour for case SC-HF-NI-14, image 176>, <Contour for case SC-HF-NI-14, image 216>, <Contour for case SC-HF-NI-14, image 103>, <Contour for case SC-HF-NI-14, image 116>, <Contour for case SC-HF-NI-14, image 143>, <Contour for case SC-HF-NI-14, image 96>, <Contour for case SC-HF-NI-14, image 163>, <Contour for case SC-HF-NI-14, image 183>, <Contour for case SC-HF-NI-14, image 123>, <Contour for case SC-HF-NI-14, image 156>, <Contour for case SC-HF-NI-14, image 76>, <Contour for case SC-HF-NI-14, image 196>, <Contour for case SC-HF-I-12, image 49>, <Contour for case SC-HF-I-12, image 40>, <Contour for case SC-HF-I-12, image 69>, <Contour for case SC-HF-I-12, image 29>, <Contour for case SC-HF-I-12, image 80>, <Contour for case SC-HF-I-12, image 20>, <Contour for case SC-HF-I-12, image 60>, <Contour for case SC-HF-I-12, image 169>, <Contour for case SC-HF-I-12, image 89>, <Contour for case SC-HF-I-12, image 129>, <Contour for case SC-HF-I-12, image 180>, <Contour for case SC-HF-I-12, image 109>, <Contour for case SC-HF-I-12, image 220>, <Contour for case SC-HF-I-12, image 189>, <Contour for case SC-HF-I-12, image 100>, <Contour for case SC-HF-I-12, image 200>, <Contour for case SC-HF-I-12, image 209>, <Contour for case SC-HF-I-12, image 160>, <Contour for case SC-HF-I-12, image 120>, <Contour for case SC-HF-I-12, image 140>, <Contour for case SC-HF-I-12, image 149>, <Contour for case SC-HF-I-9, image 247>, <Contour for case SC-HF-I-9, image 178>, <Contour for case SC-HF-I-9, image 138>, <Contour for case SC-HF-I-9, image 38>, <Contour for case SC-HF-I-9, image 198>, <Contour for case SC-HF-I-9, image 267>, <Contour for case SC-HF-I-9, image 258>, <Contour for case SC-HF-I-9, image 118>, <Contour for case SC-HF-I-9, image 18>, <Contour for case SC-HF-I-9, image 227>, <Contour for case SC-HF-I-9, image 78>, <Contour for case SC-HF-I-9, image 7>, <Contour for case SC-HF-I-9, image 127>, <Contour for case SC-HF-I-9, image 87>, <Contour for case SC-HF-I-9, image 207>, <Contour for case SC-HF-I-9, image 47>, <Contour for case SC-HF-I-9, image 107>, <Contour for case SC-HF-I-9, image 218>, <Contour for case SC-HF-I-9, image 238>, <Contour for case SC-HF-I-9, image 67>, <Contour for case SC-HF-I-9, image 167>, <Contour for case SC-HF-I-9, image 98>, <Contour for case SC-HF-I-9, image 158>, <Contour for case SC-HF-I-9, image 58>, <Contour for case SC-HF-I-9, image 147>, <Contour for case SC-HF-I-9, image 278>, <Contour for case SC-HF-I-9, image 27>, <Contour for case SC-HF-I-9, image 187>, <Contour for case SC-HF-NI-15, image 87>, <Contour for case SC-HF-NI-15, image 200>, <Contour for case SC-HF-NI-15, image 140>, <Contour for case SC-HF-NI-15, image 167>, <Contour for case SC-HF-NI-15, image 107>, <Contour for case SC-HF-NI-15, image 147>, <Contour for case SC-HF-NI-15, image 120>, <Contour for case SC-HF-NI-15, image 187>, <Contour for case SC-HF-NI-15, image 80>, <Contour for case SC-HF-NI-15, image 67>, <Contour for case SC-HF-NI-15, image 100>, <Contour for case SC-HF-NI-15, image 127>, <Contour for case SC-HF-NI-15, image 220>, <Contour for case SC-HF-NI-15, image 180>, <Contour for case SC-HF-NI-15, image 160>, <Contour for case SC-HYP-10, image 80>, <Contour for case SC-HYP-10, image 66>, <Contour for case SC-HYP-10, image 60>, <Contour for case SC-HYP-10, image 6>, <Contour for case SC-HYP-10, image 46>, <Contour for case SC-HYP-10, image 106>, <Contour for case SC-HYP-10, image 120>, <Contour for case SC-HYP-10, image 20>, <Contour for case SC-HYP-10, image 100>, <Contour for case SC-HYP-10, image 40>, <Contour for case SC-HYP-10, image 86>, <Contour for case SC-HYP-10, image 26>, <Contour for case SC-HYP-10, image 180>, <Contour for case SC-HYP-10, image 166>, <Contour for case SC-HYP-10, image 140>, <Contour for case SC-HYP-10, image 126>, <Contour for case SC-HYP-10, image 160>, <Contour for case SC-HYP-10, image 146>, <Contour for case SC-HYP-9, image 87>, <Contour for case SC-HYP-9, image 127>, <Contour for case SC-HYP-9, image 167>, <Contour for case SC-HYP-9, image 140>, <Contour for case SC-HYP-9, image 187>, <Contour for case SC-HYP-9, image 60>, <Contour for case SC-HYP-9, image 107>, <Contour for case SC-HYP-9, image 100>, <Contour for case SC-HYP-9, image 80>, <Contour for case SC-HYP-9, image 120>, <Contour for case SC-HYP-9, image 200>, <Contour for case SC-HYP-9, image 160>, <Contour for case SC-HYP-9, image 220>, <Contour for case SC-HYP-9, image 67>, <Contour for case SC-HYP-9, image 147>, <Contour for case SC-HYP-9, image 180>, <Contour for case SC-HF-I-11, image 140>, <Contour for case SC-HF-I-11, image 220>, <Contour for case SC-HF-I-11, image 30>, <Contour for case SC-HF-I-11, image 150>, <Contour for case SC-HF-I-11, image 60>, <Contour for case SC-HF-I-11, image 170>, <Contour for case SC-HF-I-11, image 190>, <Contour for case SC-HF-I-11, image 10>, <Contour for case SC-HF-I-11, image 20>, <Contour for case SC-HF-I-11, image 70>, <Contour for case SC-HF-I-11, image 90>, <Contour for case SC-HF-I-11, image 200>, <Contour for case SC-HF-I-11, image 50>, <Contour for case SC-HF-I-11, image 100>, <Contour for case SC-HF-I-11, image 130>, <Contour for case SC-HF-I-11, image 160>, <Contour for case SC-HF-I-11, image 120>, <Contour for case SC-HF-I-11, image 210>, <Contour for case SC-HF-I-11, image 110>, <Contour for case SC-HF-I-11, image 80>, <Contour for case SC-HF-I-11, image 180>, <Contour for case SC-HF-I-11, image 40>, <Contour for case SC-N-9, image 80>, <Contour for case SC-N-9, image 26>, <Contour for case SC-N-9, image 100>, <Contour for case SC-N-9, image 60>, <Contour for case SC-N-9, image 106>, <Contour for case SC-N-9, image 20>, <Contour for case SC-N-9, image 126>, <Contour for case SC-N-9, image 66>, <Contour for case SC-N-9, image 160>, <Contour for case SC-N-9, image 46>, <Contour for case SC-N-9, image 146>, <Contour for case SC-N-9, image 40>, <Contour for case SC-N-9, image 120>, <Contour for case SC-N-9, image 86>, <Contour for case SC-N-9, image 140>, <Contour for case SC-N-11, image 120>, <Contour for case SC-N-11, image 168>, <Contour for case SC-N-11, image 128>, <Contour for case SC-N-11, image 68>, <Contour for case SC-N-11, image 100>, <Contour for case SC-N-11, image 60>, <Contour for case SC-N-11, image 88>, <Contour for case SC-N-11, image 48>, <Contour for case SC-N-11, image 160>, <Contour for case SC-N-11, image 148>, <Contour for case SC-N-11, image 28>, <Contour for case SC-N-11, image 108>, <Contour for case SC-N-11, image 40>, <Contour for case SC-N-11, image 140>, <Contour for case SC-N-11, image 180>, <Contour for case SC-N-11, image 80>, <Contour for case SC-N-11, image 20>, <Contour for case SC-HYP-11, image 100>, <Contour for case SC-HYP-11, image 140>, <Contour for case SC-HYP-11, image 200>, <Contour for case SC-HYP-11, image 167>, <Contour for case SC-HYP-11, image 180>, <Contour for case SC-HYP-11, image 87>, <Contour for case SC-HYP-11, image 80>, <Contour for case SC-HYP-11, image 127>, <Contour for case SC-HYP-11, image 147>, <Contour for case SC-HYP-11, image 120>, <Contour for case SC-HYP-11, image 107>, <Contour for case SC-HYP-11, image 160>, <Contour for case SC-HYP-12, image 140>, <Contour for case SC-HYP-12, image 120>, <Contour for case SC-HYP-12, image 20>, <Contour for case SC-HYP-12, image 147>, <Contour for case SC-HYP-12, image 87>, <Contour for case SC-HYP-12, image 27>, <Contour for case SC-HYP-12, image 60>, <Contour for case SC-HYP-12, image 80>, <Contour for case SC-HYP-12, image 100>, <Contour for case SC-HYP-12, image 40>, <Contour for case SC-HYP-12, image 67>, <Contour for case SC-HYP-12, image 160>, <Contour for case SC-HYP-12, image 180>, <Contour for case SC-HYP-12, image 107>, <Contour for case SC-HYP-12, image 47>, <Contour for case SC-HYP-12, image 127>, <Contour for case SC-N-10, image 20>, <Contour for case SC-N-10, image 87>, <Contour for case SC-N-10, image 80>, <Contour for case SC-N-10, image 140>, <Contour for case SC-N-10, image 100>, <Contour for case SC-N-10, image 27>, <Contour for case SC-N-10, image 127>, <Contour for case SC-N-10, image 107>, <Contour for case SC-N-10, image 200>, <Contour for case SC-N-10, image 40>, <Contour for case SC-N-10, image 147>, <Contour for case SC-N-10, image 160>, <Contour for case SC-N-10, image 120>, <Contour for case SC-N-10, image 180>, <Contour for case SC-N-10, image 60>, <Contour for case SC-N-10, image 47>, <Contour for case SC-N-10, image 67>]\n",
            "contours here 279\n",
            "\n",
            "Processing 279 images and labels ...\n",
            "\n",
            "WARNING:tensorflow:From /usr/local/lib/python3.6/dist-packages/keras/backend/tensorflow_backend.py:349: The name tf.placeholder is deprecated. Please use tf.compat.v1.placeholder instead.\n",
            "\n",
            "WARNING:tensorflow:From /usr/local/lib/python3.6/dist-packages/keras/backend/tensorflow_backend.py:3145: The name tf.random_uniform is deprecated. Please use tf.random.uniform instead.\n",
            "\n",
            "WARNING:tensorflow:From /usr/local/lib/python3.6/dist-packages/keras/backend/tensorflow_backend.py:3012: The name tf.nn.max_pool is deprecated. Please use tf.nn.max_pool2d instead.\n",
            "\n",
            "WARNING:tensorflow:From /usr/local/lib/python3.6/dist-packages/keras/backend/tensorflow_backend.py:99: The name tf.get_default_graph is deprecated. Please use tf.compat.v1.get_default_graph instead.\n",
            "\n",
            "WARNING:tensorflow:From /usr/local/lib/python3.6/dist-packages/keras/backend/tensorflow_backend.py:2681: calling dropout (from tensorflow.python.ops.nn_ops) with keep_prob is deprecated and will be removed in a future version.\n",
            "Instructions for updating:\n",
            "Please use `rate` instead of `keep_prob`. Rate should be set to `rate = 1 - keep_prob`.\n",
            "WARNING:tensorflow:From /usr/local/lib/python3.6/dist-packages/keras/backend/tensorflow_backend.py:140: The name tf.get_default_session is deprecated. Please use tf.compat.v1.get_default_session instead.\n",
            "\n",
            "WARNING:tensorflow:From /usr/local/lib/python3.6/dist-packages/keras/backend/tensorflow_backend.py:145: The name tf.ConfigProto is deprecated. Please use tf.compat.v1.ConfigProto instead.\n",
            "\n",
            "WARNING:tensorflow:From /usr/local/lib/python3.6/dist-packages/keras/backend/tensorflow_backend.py:150: The name tf.Session is deprecated. Please use tf.compat.v1.Session instead.\n",
            "\n",
            "2020-06-02 13:47:12.517846: I tensorflow/core/platform/cpu_feature_guard.cc:142] Your CPU supports instructions that this TensorFlow binary was not compiled to use: AVX512F\n",
            "2020-06-02 13:47:12.522506: I tensorflow/core/platform/profile_utils/cpu_utils.cc:94] CPU Frequency: 2000140000 Hz\n",
            "2020-06-02 13:47:12.522756: I tensorflow/compiler/xla/service/service.cc:168] XLA service 0x9dcb800 initialized for platform Host (this does not guarantee that XLA will be used). Devices:\n",
            "2020-06-02 13:47:12.522789: I tensorflow/compiler/xla/service/service.cc:176]   StreamExecutor device (0): Host, Default Version\n",
            "2020-06-02 13:47:12.524715: I tensorflow/stream_executor/platform/default/dso_loader.cc:44] Successfully opened dynamic library libcuda.so.1\n",
            "2020-06-02 13:47:12.673736: I tensorflow/stream_executor/cuda/cuda_gpu_executor.cc:983] successful NUMA node read from SysFS had negative value (-1), but there must be at least one NUMA node, so returning NUMA node zero\n",
            "2020-06-02 13:47:12.674501: I tensorflow/compiler/xla/service/service.cc:168] XLA service 0x9dcb9c0 initialized for platform CUDA (this does not guarantee that XLA will be used). Devices:\n",
            "2020-06-02 13:47:12.674530: I tensorflow/compiler/xla/service/service.cc:176]   StreamExecutor device (0): Tesla T4, Compute Capability 7.5\n",
            "2020-06-02 13:47:12.674723: I tensorflow/stream_executor/cuda/cuda_gpu_executor.cc:983] successful NUMA node read from SysFS had negative value (-1), but there must be at least one NUMA node, so returning NUMA node zero\n",
            "2020-06-02 13:47:12.675284: I tensorflow/core/common_runtime/gpu/gpu_device.cc:1639] Found device 0 with properties: \n",
            "name: Tesla T4 major: 7 minor: 5 memoryClockRate(GHz): 1.59\n",
            "pciBusID: 0000:00:04.0\n",
            "2020-06-02 13:47:12.675652: I tensorflow/stream_executor/platform/default/dso_loader.cc:44] Successfully opened dynamic library libcudart.so.10.1\n",
            "2020-06-02 13:47:12.677092: I tensorflow/stream_executor/platform/default/dso_loader.cc:44] Successfully opened dynamic library libcublas.so.10\n",
            "2020-06-02 13:47:12.678656: I tensorflow/stream_executor/platform/default/dso_loader.cc:44] Successfully opened dynamic library libcufft.so.10\n",
            "2020-06-02 13:47:12.678987: I tensorflow/stream_executor/platform/default/dso_loader.cc:44] Successfully opened dynamic library libcurand.so.10\n",
            "2020-06-02 13:47:12.680482: I tensorflow/stream_executor/platform/default/dso_loader.cc:44] Successfully opened dynamic library libcusolver.so.10\n",
            "2020-06-02 13:47:12.681142: I tensorflow/stream_executor/platform/default/dso_loader.cc:44] Successfully opened dynamic library libcusparse.so.10\n",
            "2020-06-02 13:47:12.684211: I tensorflow/stream_executor/platform/default/dso_loader.cc:44] Successfully opened dynamic library libcudnn.so.7\n",
            "2020-06-02 13:47:12.684325: I tensorflow/stream_executor/cuda/cuda_gpu_executor.cc:983] successful NUMA node read from SysFS had negative value (-1), but there must be at least one NUMA node, so returning NUMA node zero\n",
            "2020-06-02 13:47:12.684964: I tensorflow/stream_executor/cuda/cuda_gpu_executor.cc:983] successful NUMA node read from SysFS had negative value (-1), but there must be at least one NUMA node, so returning NUMA node zero\n",
            "2020-06-02 13:47:12.685526: I tensorflow/core/common_runtime/gpu/gpu_device.cc:1767] Adding visible gpu devices: 0\n",
            "2020-06-02 13:47:12.685605: I tensorflow/stream_executor/platform/default/dso_loader.cc:44] Successfully opened dynamic library libcudart.so.10.1\n",
            "2020-06-02 13:47:12.686704: I tensorflow/core/common_runtime/gpu/gpu_device.cc:1180] Device interconnect StreamExecutor with strength 1 edge matrix:\n",
            "2020-06-02 13:47:12.686727: I tensorflow/core/common_runtime/gpu/gpu_device.cc:1186]      0 \n",
            "2020-06-02 13:47:12.686738: I tensorflow/core/common_runtime/gpu/gpu_device.cc:1199] 0:   N \n",
            "2020-06-02 13:47:12.686842: I tensorflow/stream_executor/cuda/cuda_gpu_executor.cc:983] successful NUMA node read from SysFS had negative value (-1), but there must be at least one NUMA node, so returning NUMA node zero\n",
            "2020-06-02 13:47:12.687405: I tensorflow/stream_executor/cuda/cuda_gpu_executor.cc:983] successful NUMA node read from SysFS had negative value (-1), but there must be at least one NUMA node, so returning NUMA node zero\n",
            "2020-06-02 13:47:12.687930: W tensorflow/core/common_runtime/gpu/gpu_bfc_allocator.cc:39] Overriding allow_growth setting because the TF_FORCE_GPU_ALLOW_GROWTH environment variable is set. Original config value was 0.\n",
            "2020-06-02 13:47:12.687972: I tensorflow/core/common_runtime/gpu/gpu_device.cc:1325] Created TensorFlow device (/job:localhost/replica:0/task:0/device:GPU:0 with 14221 MB memory) -> physical GPU (device: 0, name: Tesla T4, pci bus id: 0000:00:04.0, compute capability: 7.5)\n",
            "WARNING:tensorflow:From /usr/local/lib/python3.6/dist-packages/keras/backend/tensorflow_backend.py:298: The name tf.global_variables is deprecated. Please use tf.compat.v1.global_variables instead.\n",
            "\n",
            "WARNING:tensorflow:From /usr/local/lib/python3.6/dist-packages/keras/backend/tensorflow_backend.py:306: The name tf.variables_initializer is deprecated. Please use tf.compat.v1.variables_initializer instead.\n",
            "\n",
            "WARNING:tensorflow:From /usr/local/lib/python3.6/dist-packages/keras/optimizers.py:675: The name tf.train.Optimizer is deprecated. Please use tf.compat.v1.train.Optimizer instead.\n",
            "\n",
            "WARNING:tensorflow:From /usr/local/lib/python3.6/dist-packages/keras/backend/tensorflow_backend.py:1044: calling reduce_sum_v1 (from tensorflow.python.ops.math_ops) with keep_dims is deprecated and will be removed in a future version.\n",
            "Instructions for updating:\n",
            "keep_dims is deprecated, use keepdims instead\n",
            "Coming here\n",
            "____________________________________________________________________________________________________\n",
            "Layer (type)                     Output Shape          Param #     Connected to                     \n",
            "====================================================================================================\n",
            "data (InputLayer)                (None, 100, 100, 1)   0                                            \n",
            "____________________________________________________________________________________________________\n",
            "mvn0 (Lambda)                    (None, 100, 100, 1)   0                                            \n",
            "____________________________________________________________________________________________________\n",
            "pad (ZeroPadding2D)              (None, 110, 110, 1)   0                                            \n",
            "____________________________________________________________________________________________________\n",
            "conv1 (Conv2D)                   (None, 110, 110, 64)  640                                          \n",
            "____________________________________________________________________________________________________\n",
            "mvn1 (Lambda)                    (None, 110, 110, 64)  0                                            \n",
            "____________________________________________________________________________________________________\n",
            "conv2 (Conv2D)                   (None, 110, 110, 64)  36928                                        \n",
            "____________________________________________________________________________________________________\n",
            "mvn2 (Lambda)                    (None, 110, 110, 64)  0                                            \n",
            "____________________________________________________________________________________________________\n",
            "conv3 (Conv2D)                   (None, 110, 110, 64)  36928                                        \n",
            "____________________________________________________________________________________________________\n",
            "mvn3 (Lambda)                    (None, 110, 110, 64)  0                                            \n",
            "____________________________________________________________________________________________________\n",
            "pool1 (MaxPooling2D)             (None, 54, 54, 64)    0                                            \n",
            "____________________________________________________________________________________________________\n",
            "conv4 (Conv2D)                   (None, 54, 54, 128)   73856                                        \n",
            "____________________________________________________________________________________________________\n",
            "mvn4 (Lambda)                    (None, 54, 54, 128)   0                                            \n",
            "____________________________________________________________________________________________________\n",
            "conv5 (Conv2D)                   (None, 54, 54, 128)   147584                                       \n",
            "____________________________________________________________________________________________________\n",
            "mvn5 (Lambda)                    (None, 54, 54, 128)   0                                            \n",
            "____________________________________________________________________________________________________\n",
            "conv6 (Conv2D)                   (None, 54, 54, 128)   147584                                       \n",
            "____________________________________________________________________________________________________\n",
            "mvn6 (Lambda)                    (None, 54, 54, 128)   0                                            \n",
            "____________________________________________________________________________________________________\n",
            "conv7 (Conv2D)                   (None, 54, 54, 128)   147584                                       \n",
            "____________________________________________________________________________________________________\n",
            "mvn7 (Lambda)                    (None, 54, 54, 128)   0                                            \n",
            "____________________________________________________________________________________________________\n",
            "pool2 (MaxPooling2D)             (None, 26, 26, 128)   0                                            \n",
            "____________________________________________________________________________________________________\n",
            "conv8 (Conv2D)                   (None, 26, 26, 256)   295168                                       \n",
            "____________________________________________________________________________________________________\n",
            "mvn8 (Lambda)                    (None, 26, 26, 256)   0                                            \n",
            "____________________________________________________________________________________________________\n",
            "conv9 (Conv2D)                   (None, 26, 26, 256)   590080                                       \n",
            "____________________________________________________________________________________________________\n",
            "mvn9 (Lambda)                    (None, 26, 26, 256)   0                                            \n",
            "____________________________________________________________________________________________________\n",
            "conv10 (Conv2D)                  (None, 26, 26, 256)   590080                                       \n",
            "____________________________________________________________________________________________________\n",
            "mvn10 (Lambda)                   (None, 26, 26, 256)   0                                            \n",
            "____________________________________________________________________________________________________\n",
            "conv11 (Conv2D)                  (None, 26, 26, 256)   590080                                       \n",
            "____________________________________________________________________________________________________\n",
            "mvn11 (Lambda)                   (None, 26, 26, 256)   0                                            \n",
            "____________________________________________________________________________________________________\n",
            "pool3 (MaxPooling2D)             (None, 12, 12, 256)   0                                            \n",
            "____________________________________________________________________________________________________\n",
            "drop1 (Dropout)                  (None, 12, 12, 256)   0                                            \n",
            "____________________________________________________________________________________________________\n",
            "conv12 (Conv2D)                  (None, 12, 12, 512)   1180160                                      \n",
            "____________________________________________________________________________________________________\n",
            "mvn12 (Lambda)                   (None, 12, 12, 512)   0                                            \n",
            "____________________________________________________________________________________________________\n",
            "conv13 (Conv2D)                  (None, 12, 12, 512)   2359808                                      \n",
            "____________________________________________________________________________________________________\n",
            "mvn13 (Lambda)                   (None, 12, 12, 512)   0                                            \n",
            "____________________________________________________________________________________________________\n",
            "conv14 (Conv2D)                  (None, 12, 12, 512)   2359808                                      \n",
            "____________________________________________________________________________________________________\n",
            "mvn14 (Lambda)                   (None, 12, 12, 512)   0                                            \n",
            "____________________________________________________________________________________________________\n",
            "conv15 (Conv2D)                  (None, 12, 12, 512)   2359808                                      \n",
            "____________________________________________________________________________________________________\n",
            "mvn15 (Lambda)                   (None, 12, 12, 512)   0                                            \n",
            "____________________________________________________________________________________________________\n",
            "drop2 (Dropout)                  (None, 12, 12, 512)   0                                            \n",
            "____________________________________________________________________________________________________\n",
            "score_conv15 (Conv2D)            (None, 12, 12, 1)     513                                          \n",
            "____________________________________________________________________________________________________\n",
            "upsample1 (Conv2DTranspose)      (None, 25, 25, 1)     9                                            \n",
            "____________________________________________________________________________________________________\n",
            "score_conv11 (Conv2D)            (None, 26, 26, 1)     257                                          \n",
            "____________________________________________________________________________________________________\n",
            "crop1 (Lambda)                   (None, 25, 25, 1)     0                                            \n",
            "____________________________________________________________________________________________________\n",
            "fuse_scores1 (Average)           (None, 25, 25, 1)     0                                            \n",
            "____________________________________________________________________________________________________\n",
            "upsample2 (Conv2DTranspose)      (None, 51, 51, 1)     9                                            \n",
            "____________________________________________________________________________________________________\n",
            "score_conv7 (Conv2D)             (None, 54, 54, 1)     129                                          \n",
            "____________________________________________________________________________________________________\n",
            "crop2 (Lambda)                   (None, 51, 51, 1)     0                                            \n",
            "____________________________________________________________________________________________________\n",
            "fuse_scores2 (Average)           (None, 51, 51, 1)     0                                            \n",
            "____________________________________________________________________________________________________\n",
            "upsample3 (Conv2DTranspose)      (None, 103, 103, 1)   9                                            \n",
            "____________________________________________________________________________________________________\n",
            "crop3 (Lambda)                   (None, 100, 100, 1)   0                                            \n",
            "____________________________________________________________________________________________________\n",
            "predictions (Conv2D)             (None, 100, 100, 1)   2                                            \n",
            "====================================================================================================\n",
            "Total params: 10,917,024.0\n",
            "Trainable params: 10,917,024.0\n",
            "Non-trainable params: 0.0\n",
            "____________________________________________________________________________________________________\n",
            "None\n",
            "2020-06-02 13:47:13.625660: I tensorflow/stream_executor/platform/default/dso_loader.cc:44] Successfully opened dynamic library libcudnn.so.7\n",
            "2020-06-02 13:47:15.307180: I tensorflow/stream_executor/platform/default/dso_loader.cc:44] Successfully opened dynamic library libcublas.so.10\n",
            "279/279 [==============================] - 4s     \n",
            "\n",
            "All done.\n"
          ],
          "name": "stdout"
        }
      ]
    },
    {
      "cell_type": "markdown",
      "metadata": {
        "id": "ZzlfKbu6MTi6",
        "colab_type": "text"
      },
      "source": [
        "Epicardium"
      ]
    },
    {
      "cell_type": "code",
      "metadata": {
        "id": "OD9SWkeSMLpB",
        "colab_type": "code",
        "colab": {}
      },
      "source": [
        "!python3 -W ignore submit_sunnybrook.py o"
      ],
      "execution_count": 0,
      "outputs": []
    }
  ]
}