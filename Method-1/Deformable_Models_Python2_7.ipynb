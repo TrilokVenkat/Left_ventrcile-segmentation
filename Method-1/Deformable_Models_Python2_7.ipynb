{
  "nbformat": 4,
  "nbformat_minor": 0,
  "metadata": {
    "kernelspec": {
      "name": "python3",
      "display_name": "Python 3"
    },
    "toc": {
      "nav_menu": {},
      "number_sections": true,
      "sideBar": true,
      "skip_h1_title": false,
      "toc_cell": false,
      "toc_position": {},
      "toc_section_display": "block",
      "toc_window_display": false
    },
    "colab": {
      "name": "Deformable Models - Python2.7.ipynb",
      "provenance": [],
      "collapsed_sections": []
    },
    "accelerator": "GPU"
  },
  "cells": [
    {
      "cell_type": "code",
      "metadata": {
        "id": "__2-X-J8ahiB",
        "colab_type": "code",
        "outputId": "7a9a094a-e207-4106-96b6-dc8712410c0d",
        "colab": {
          "base_uri": "https://localhost:8080/",
          "height": 32
        }
      },
      "source": [
        "%cd '/content/drive/My Drive/Medical-Image-Analysis-master'"
      ],
      "execution_count": 0,
      "outputs": [
        {
          "output_type": "stream",
          "text": [
            "/content/drive/My Drive/Medical-Image-Analysis-master\n"
          ],
          "name": "stdout"
        }
      ]
    },
    {
      "cell_type": "code",
      "metadata": {
        "id": "mt4ksFihNZya",
        "colab_type": "code",
        "outputId": "b654ba00-7f3a-4124-eb41-0631fdd5024a",
        "colab": {
          "base_uri": "https://localhost:8080/",
          "height": 65
        }
      },
      "source": [
        "!pip install pydicom\n",
        "\n",
        "%tensorflow_version 1.x\n",
        "import tensorflow as tf\n",
        "tf.__version__"
      ],
      "execution_count": 0,
      "outputs": [
        {
          "output_type": "stream",
          "text": [
            "Requirement already satisfied: pydicom in /usr/local/lib/python3.6/dist-packages (2.0.0)\n",
            "TensorFlow 1.x selected.\n"
          ],
          "name": "stdout"
        },
        {
          "output_type": "execute_result",
          "data": {
            "text/plain": [
              "'1.15.2'"
            ]
          },
          "metadata": {
            "tags": []
          },
          "execution_count": 3
        }
      ]
    },
    {
      "cell_type": "code",
      "metadata": {
        "id": "2guzt7WhNiJm",
        "colab_type": "code",
        "outputId": "3c6eb1e3-1ebc-4483-cf84-14042738f4b0",
        "colab": {
          "base_uri": "https://localhost:8080/",
          "height": 32
        }
      },
      "source": [
        "from google.colab import drive\n",
        "drive.mount('/content/drive')"
      ],
      "execution_count": 0,
      "outputs": [
        {
          "output_type": "stream",
          "text": [
            "Drive already mounted at /content/drive; to attempt to forcibly remount, call drive.mount(\"/content/drive\", force_remount=True).\n"
          ],
          "name": "stdout"
        }
      ]
    },
    {
      "cell_type": "code",
      "metadata": {
        "id": "GBegphH6a5lE",
        "colab_type": "code",
        "outputId": "b68ac397-ff31-4802-d270-c27a10faec17",
        "colab": {
          "base_uri": "https://localhost:8080/",
          "height": 56
        }
      },
      "source": [
        "!pip install pydicom"
      ],
      "execution_count": 0,
      "outputs": [
        {
          "output_type": "stream",
          "text": [
            "Requirement already satisfied: pydicom in /usr/local/lib/python3.6/dist-packages (2.0.0)\n"
          ],
          "name": "stdout"
        }
      ]
    },
    {
      "cell_type": "code",
      "metadata": {
        "ExecuteTime": {
          "end_time": "2017-12-05T09:04:36.981591Z",
          "start_time": "2017-12-05T09:04:35.672670Z"
        },
        "id": "ANbovYfDTCdh",
        "colab_type": "code",
        "outputId": "22390b17-e7b2-4ede-f273-5a9553c85cbc",
        "colab": {
          "base_uri": "https://localhost:8080/",
          "height": 32
        }
      },
      "source": [
        "from skimage import data, img_as_float\n",
        "from skimage.segmentation import chan_vese, active_contour\n",
        "from skimage import measure\n",
        "from skimage import measure\n",
        "import numpy as np\n",
        "from matplotlib.path import Path\n",
        "import skimage\n",
        "import numpy as np\n",
        "import matplotlib.pyplot as plt\n",
        "import pickle\n",
        "import train_cnn\n",
        "import stacked_ae\n",
        "import utils\n",
        "%matplotlib inline"
      ],
      "execution_count": 0,
      "outputs": [
        {
          "output_type": "stream",
          "text": [
            "Using TensorFlow backend.\n"
          ],
          "name": "stderr"
        }
      ]
    },
    {
      "cell_type": "code",
      "metadata": {
        "id": "yXZX19Up7MIa",
        "colab_type": "code",
        "outputId": "0a7d9cba-3533-4be0-9a99-caa1c7be138a",
        "colab": {
          "base_uri": "https://localhost:8080/",
          "height": 56
        }
      },
      "source": [
        "!pwd"
      ],
      "execution_count": 0,
      "outputs": [
        {
          "output_type": "stream",
          "text": [
            "/content/drive/My Drive/Medical-Image-Analysis-master\n"
          ],
          "name": "stdout"
        }
      ]
    },
    {
      "cell_type": "code",
      "metadata": {
        "id": "EiuDeMuEaR1B",
        "colab_type": "code",
        "outputId": "1ac1b27b-fc31-4902-cecf-4bf4f68039b9",
        "colab": {
          "base_uri": "https://localhost:8080/",
          "height": 32
        }
      },
      "source": [
        "from google.colab import drive\n",
        "drive.mount('/content/drive')"
      ],
      "execution_count": 0,
      "outputs": [
        {
          "output_type": "stream",
          "text": [
            "Drive already mounted at /content/drive; to attempt to forcibly remount, call drive.mount(\"/content/drive\", force_remount=True).\n"
          ],
          "name": "stdout"
        }
      ]
    },
    {
      "cell_type": "markdown",
      "metadata": {
        "ExecuteTime": {
          "end_time": "2017-12-04T14:51:22.651377Z",
          "start_time": "2017-12-04T14:51:22.648875Z"
        },
        "id": "TvRCmeieTCdo",
        "colab_type": "text"
      },
      "source": [
        "**bold text**### Original (from Paper) model"
      ]
    },
    {
      "cell_type": "markdown",
      "metadata": {
        "id": "sWqVlUJrTCdq",
        "colab_type": "text"
      },
      "source": [
        "**bold text**#### Train."
      ]
    },
    {
      "cell_type": "markdown",
      "metadata": {
        "id": "tU8GGd84KEF-",
        "colab_type": "text"
      },
      "source": [
        "This runs the CNN part of method-1 Where we execute, different models. Here an exampleof simple is used."
      ]
    },
    {
      "cell_type": "code",
      "metadata": {
        "ExecuteTime": {
          "end_time": "2017-12-05T09:06:45.109450Z",
          "start_time": "2017-12-05T09:04:53.455486Z"
        },
        "id": "FH_26jPOTCdr",
        "colab_type": "code",
        "outputId": "afdaeee9-a8df-446c-bb22-a162c0ef2ee6",
        "colab": {
          "base_uri": "https://localhost:8080/",
          "height": 49
        }
      },
      "source": [
        "_, X_fullsize, _, contour_mask, y_pred, h, m = train_cnn.run(model='simple', history=True)"
      ],
      "execution_count": 0,
      "outputs": [
        {
          "output_type": "stream",
          "text": [
            "Entering dataset function of utils.py\n",
            "Dataset shape : (494, 64, 64, 1) (494, 1, 32, 32)\n"
          ],
          "name": "stdout"
        }
      ]
    },
    {
      "cell_type": "code",
      "metadata": {
        "ExecuteTime": {
          "end_time": "2017-12-05T09:25:40.372138Z",
          "start_time": "2017-12-05T09:25:39.868034Z"
        },
        "id": "6J4m8EQfTCd8",
        "colab_type": "code",
        "outputId": "41974830-929a-4af4-e131-bf956afffb1e",
        "colab": {
          "base_uri": "https://localhost:8080/",
          "height": 318
        }
      },
      "source": [
        "f, ax = plt.subplots(ncols=4, figsize=(20,4))\n",
        "idx = 4\n",
        "\n",
        "\n",
        "X_input = X_fullsize[idx].reshape((256,256))\n",
        "X_roi = stacked_ae.open_data_AE(X_fullsize[idx:idx+1], y_pred[idx:idx+1], contour_mask[idx:idx+1])[0].reshape((64,64))\n",
        "\n",
        "bin_pred = models_sae_loss[2][idx]\n",
        "contours_pred = measure.find_contours(bin_pred, 0.8)\n",
        "contour_pred = contours_pred[np.argmax([k.shape[0] for k in contours_pred])]\n",
        "\n",
        "img = models_sae_loss[0][idx].reshape((64,64))\n",
        "ac_contour = active_contour(img, contour_pred, alpha=0.01, beta=1)\n",
        "\n",
        "ax[0].imshow(X_input, cmap='gray')\n",
        "ax[1].imshow(X_roi, cmap='gray')\n",
        "ax[2].imshow(img, cmap='gray')\n",
        "ax[2].plot(contour_pred[:, 1], contour_pred[:, 0], linewidth=2, color='red',label='Prediction')\n",
        "ax[3].imshow(img, cmap='gray')\n",
        "ax[3].plot(ac_contour[:, 1], ac_contour[:, 0], linewidth=2, color='orange',label='Prediction')\n",
        "for i in range(4):\n",
        "    ax[i].axis('off')\n",
        "#plt.savefig('./Rapport/images/final_results.png')"
      ],
      "execution_count": 0,
      "outputs": [
        {
          "output_type": "stream",
          "text": [
            "/usr/local/lib/python3.6/dist-packages/ipykernel_launcher.py:13: FutureWarning: The coordinates used by `active_contour` will change from xy coordinates (transposed from image dimensions) to rc coordinates in scikit-image 0.18. Set `coordinates='rc'` to silence this warning. `coordinates='xy'` will restore the old behavior until 0.18, but will stop working thereafter.\n",
            "  del sys.path[0]\n"
          ],
          "name": "stderr"
        },
        {
          "output_type": "display_data",
          "data": {
            "image/png": "[encoded data removed]",
            "text/plain": [
              "<Figure size 1440x288 with 4 Axes>"
            ]
          },
          "metadata": {
            "tags": [],
            "needs_background": "light"
          }
        }
      ]
    },
    {
      "cell_type": "markdown",
      "metadata": {
        "id": "9xesQz2azgyy",
        "colab_type": "text"
      },
      "source": [
        "\n",
        "The end\n",
        "\n",
        "\n",
        "\n",
        "\n",
        "\n",
        "\n",
        "\n",
        "\n",
        "\n",
        "\n",
        "\n",
        "\n",
        "\n",
        "\n",
        "\n",
        "\n",
        "\n",
        "\n",
        "\n",
        "\n",
        "\n",
        "\n",
        "\n",
        "\n",
        "\n",
        "\n",
        "\n",
        "\n",
        "\n",
        "\n",
        "\n",
        "\n",
        "\n",
        "\n",
        "\n",
        "\n",
        "\n",
        "\n",
        "\n",
        "\n",
        "\n",
        "\n",
        "\n",
        "\n",
        "\n",
        "\n",
        "\n",
        "\n",
        "\n",
        "\n",
        "\n",
        "\n",
        "\n",
        "\n",
        "\n",
        "\n",
        "\n",
        "\n",
        "\n",
        "\n",
        "\n",
        "\n",
        "\n",
        "\n",
        "\n",
        "\n",
        "\n",
        "\n",
        "\n",
        "\n",
        "\n",
        "\n",
        "\n",
        "\n",
        "\n",
        "\n",
        "\n",
        "\n",
        "\n",
        "\n"
      ]
    },
    {
      "cell_type": "markdown",
      "metadata": {
        "id": "Mkaafq2zzhF9",
        "colab_type": "text"
      },
      "source": [
        ""
      ]
    },
    {
      "cell_type": "code",
      "metadata": {
        "id": "PQDJ11ZwTCfL",
        "colab_type": "code",
        "colab": {}
      },
      "source": [
        ""
      ],
      "execution_count": 0,
      "outputs": []
    }
  ]
}